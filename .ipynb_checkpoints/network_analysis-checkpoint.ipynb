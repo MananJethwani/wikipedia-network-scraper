{
 "cells": [
  {
   "cell_type": "code",
   "execution_count": 3,
   "metadata": {
    "id": "2qbGQz7qV7Dv"
   },
   "outputs": [],
   "source": [
    "def getCentralization(centrality, c_type):\n",
    "\t\n",
    "\tc_denominator = float(1)\n",
    "\t\n",
    "\tn_val = float(len(centrality))\n",
    "\t\n",
    "\t# print (str(len(centrality)) + \",\" +  c_type + \"\\n\")\n",
    "\t\n",
    "\tif (c_type==\"degree\"):\n",
    "\t\tc_denominator = (n_val-1)*(n_val-2)\n",
    "\t\t\n",
    "\tif (c_type==\"close\"):\n",
    "\t\tc_top = (n_val-1)*(n_val-2)\n",
    "\t\tc_bottom = (2*n_val)-3\t\n",
    "\t\tc_denominator = float(c_top/c_bottom)\n",
    "\t\t\n",
    "\tif (c_type==\"between\"):\n",
    "\t\tc_denominator = (n_val*n_val*(n_val-2))\n",
    "  \n",
    "\t\t\n",
    "\t#start calculations\t\n",
    "\t\t\n",
    "\tc_node_max = max(centrality.values()) #extracting values\n",
    "\n",
    "\tc_sorted = sorted(centrality.values(),reverse=True)\n",
    "\t\n",
    "\t# print (\"max node\" + str(c_node_max) + \"\\n\")\n",
    "\n",
    "\tc_numerator = 0\n",
    "\n",
    "\tfor value in c_sorted:\n",
    "\t\t\n",
    "\t\tif c_type == \"degree\":\n",
    "\t\t\t#remove normalisation for each value\n",
    "\t\t\tc_numerator += (c_node_max*(n_val-1) - value*(n_val-1))\n",
    "\t\telse:\n",
    "\t\t\tc_numerator += (c_node_max - value)\n",
    "\t\n",
    "\t# print ('numerator:' + str(c_numerator)  + \"\\n\")\t\n",
    "\t# print ('denominator:' + str(c_denominator)  + \"\\n\")\t\n",
    "\n",
    "\tnetwork_centrality = float(c_numerator/c_denominator)\n",
    "\t\n",
    "\tif c_type == \"between\":\n",
    "\t\tnetwork_centrality = network_centrality * 2\n",
    "\t\t\n",
    "\treturn network_centrality\n"
   ]
  },
  {
   "cell_type": "code",
   "execution_count": 4,
   "metadata": {
    "colab": {
     "base_uri": "https://localhost:8080/",
     "height": 634
    },
    "id": "9yXsneJDFnLX",
    "outputId": "1f4fd2a8-708d-40f5-d116-721b1ae082e0"
   },
   "outputs": [
    {
     "ename": "ModuleNotFoundError",
     "evalue": "No module named 'matplotlib'",
     "output_type": "error",
     "traceback": [
      "\u001b[0;31m---------------------------------------------------------------------------\u001b[0m",
      "\u001b[0;31mModuleNotFoundError\u001b[0m                       Traceback (most recent call last)",
      "\u001b[0;32m<ipython-input-4-58cc47548da3>\u001b[0m in \u001b[0;36m<module>\u001b[0;34m\u001b[0m\n\u001b[1;32m      1\u001b[0m \u001b[0;32mimport\u001b[0m \u001b[0mnetworkx\u001b[0m \u001b[0;32mas\u001b[0m \u001b[0mnx\u001b[0m\u001b[0;34m\u001b[0m\u001b[0;34m\u001b[0m\u001b[0m\n\u001b[1;32m      2\u001b[0m \u001b[0;32mimport\u001b[0m \u001b[0mcsv\u001b[0m\u001b[0;34m\u001b[0m\u001b[0;34m\u001b[0m\u001b[0m\n\u001b[0;32m----> 3\u001b[0;31m \u001b[0;32mimport\u001b[0m \u001b[0mmatplotlib\u001b[0m\u001b[0;34m.\u001b[0m\u001b[0mpyplot\u001b[0m \u001b[0;32mas\u001b[0m \u001b[0mplt\u001b[0m\u001b[0;34m\u001b[0m\u001b[0;34m\u001b[0m\u001b[0m\n\u001b[0m\u001b[1;32m      4\u001b[0m \u001b[0;34m\u001b[0m\u001b[0m\n\u001b[1;32m      5\u001b[0m \u001b[0mData\u001b[0m \u001b[0;34m=\u001b[0m \u001b[0mopen\u001b[0m\u001b[0;34m(\u001b[0m\u001b[0;34m'./graph.csv'\u001b[0m\u001b[0;34m,\u001b[0m \u001b[0;34m\"r\"\u001b[0m\u001b[0;34m)\u001b[0m\u001b[0;34m\u001b[0m\u001b[0;34m\u001b[0m\u001b[0m\n",
      "\u001b[0;31mModuleNotFoundError\u001b[0m: No module named 'matplotlib'"
     ]
    }
   ],
   "source": [
    "import networkx as nx\n",
    "import csv\n",
    "import matplotlib.pyplot as plt\n",
    "\n",
    "Data = open('./graph.csv', \"r\")\n",
    "Graphtype = nx.DiGraph()\n",
    "\n",
    "G = nx.parse_edgelist(Data, delimiter=',', create_using=Graphtype,nodetype=str, data=(('weight', str),))\n",
    "\n",
    "# for x in G.nodes():\n",
    "      # print (\"Node:\", x, \"has total_degree:\",G.degree(x), \" , In_degree: \", G.out_degree(x),\" and out_degree: \", G.in_degree(x)) \n",
    "# for u,v in G.edges():\n",
    "      # print (\"Weight of Edge (\"+str(u)+\",\"+str(v)+\")\", G.get_edge_data(u,v))\n",
    "\n",
    "\n",
    "#computing in-degree-centrality\n",
    "in_deg_cen = nx.in_degree_centrality(G)\n",
    "print(dict(list(sorted(in_deg_cen.items(), key=lambda item: item[1]))[0:1000]))\n",
    "print(\"In Degree Centralization: \",getCentralization(in_deg_cen,\"degree\"),\"\\n\");\n",
    "\n",
    "#computing out-degree-centrality\n",
    "out_deg_cen = nx.out_degree_centrality(G)\n",
    "# Printing Top 1000 Articles with highest centrality value\n",
    "print((list(sorted(out_deg_cen.items(), key=lambda item: item[1], reverse=True))[0:1000]))\n",
    "print(\"Out Degree Centralization: \",getCentralization(out_deg_cen,\"degree\"),\"\\n\");\n",
    "\n",
    "#closeness centrality\n",
    "cl_cen = nx.closeness_centrality(G, u=None, distance=None, wf_improved=True)\n",
    "# Printing Top 1000 Articles with highest centrality value\n",
    "print((list(sorted(cl_cen.items(), key=lambda item: item[1], reverse=True))[0:1000]))\n",
    "print(\"Closeness Centralization: \",getCentralization(cl_cen,\"closeness\"),\"\\n\");\n",
    "\n",
    "#betweenness centrality\n",
    "bt_cen = nx.betweenness_centrality(G, k=None, normalized=True, weight=None, endpoints=False, seed=None)\n",
    "# Printing Top 1000 Articles with highest centrality value\n",
    "print((list(sorted(bt_cen.items(), key=lambda item: item[1], reverse=True))[0:1000]))\n",
    "print(\"Betweenness Centralization: \",getCentralization(bt_cen,\"betweenness\"),\"\\n\");\n",
    "\n",
    "#pagerank\n",
    "pg_rank = nx.pagerank(G, alpha=0.85, personalization=None, max_iter=100, tol=1e-06, nstart=None, weight='weight', dangling=None)\n",
    "# Printing Top 1000 Articles with highest centrality value\n",
    "print(\"Page Rank\")\n",
    "print((list(sorted(pg_rank.items(), key=lambda item: item[1], reverse=True))[0:1000]),\"\\n\")\n",
    "\n",
    "\n",
    "#katz centrality\n",
    "kat_cen = nx.katz_centrality(G, alpha=0.1, beta=1.0, max_iter=1000, tol=1e-06, nstart=None, normalized=True, weight=None)\n",
    "# Printing Top 1000 Articles with highest centrality value\n",
    "print(\"Katz Centrality\")\n",
    "print((list(sorted(kat_cen.items(), key=lambda item: item[1], reverse=True))[0:1000]))\n",
    "\n",
    "\n",
    "nx.draw(G)\n",
    "plt.show()"
   ]
  },
  {
   "cell_type": "code",
   "execution_count": null,
   "metadata": {
    "id": "8bRMtNCDV4z1"
   },
   "outputs": [],
   "source": []
  }
 ],
 "metadata": {
  "colab": {
   "collapsed_sections": [],
   "name": "SNA_Project",
   "provenance": []
  },
  "kernelspec": {
   "display_name": "Python 3 (ipykernel)",
   "language": "python",
   "name": "python3"
  },
  "language_info": {
   "codemirror_mode": {
    "name": "ipython",
    "version": 3
   },
   "file_extension": ".py",
   "mimetype": "text/x-python",
   "name": "python",
   "nbconvert_exporter": "python",
   "pygments_lexer": "ipython3",
   "version": "3.9.7"
  }
 },
 "nbformat": 4,
 "nbformat_minor": 1
}
